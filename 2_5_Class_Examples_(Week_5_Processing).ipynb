{
  "nbformat": 4,
  "nbformat_minor": 0,
  "metadata": {
    "colab": {
      "provenance": [],
      "authorship_tag": "ABX9TyMqjRJtwzAQXINUJYQP9i09",
      "include_colab_link": true
    },
    "kernelspec": {
      "name": "python3",
      "display_name": "Python 3"
    },
    "language_info": {
      "name": "python"
    }
  },
  "cells": [
    {
      "cell_type": "markdown",
      "metadata": {
        "id": "view-in-github",
        "colab_type": "text"
      },
      "source": [
        "<a href=\"https://colab.research.google.com/github/emilygiullian/HUM1600/blob/main/2_5_Class_Examples_(Week_5_Processing).ipynb\" target=\"_parent\"><img src=\"https://colab.research.google.com/assets/colab-badge.svg\" alt=\"Open In Colab\"/></a>"
      ]
    },
    {
      "cell_type": "markdown",
      "source": [
        "Processing\n",
        "input - processing - output\n",
        "\n",
        "processing= black box\n",
        "\n",
        "Decisions\n",
        "Repetition\n",
        "Functions\n",
        "Libraries\n",
        "\n",
        "And:\n",
        "T+T= true\n",
        "T+F= false\n",
        "F+F= false\n",
        "\n",
        "Or:\n",
        "T or T= true\n",
        "T or F= true\n",
        "F or F= false\n"
      ],
      "metadata": {
        "id": "HLs0-Kpmp6Dc"
      }
    },
    {
      "cell_type": "code",
      "source": [
        "x = 10\n",
        "if x > 10:\n",
        "  # \"if\" = condition, always have to have a colon\n",
        "  print(\"Larger\")\n",
        "  # condition is false because x is equal to 10\n",
        "print(\"Outside\")\n",
        "  # indentation is part of the condition\n",
        "# not indented is not part of the outcome and gets printed\n",
        "\n",
        "# code block:\n",
        "if x > 10:\n",
        "print(\"Larger\")\n",
        "# this is a code blocke bc it is not indented\n",
        "# (inside and outside of the structure)"
      ],
      "metadata": {
        "colab": {
          "base_uri": "https://localhost:8080/",
          "height": 143
        },
        "id": "7wY7pguXwQVf",
        "outputId": "acf6f613-159c-4247-a5e1-7b883dbe1830"
      },
      "execution_count": null,
      "outputs": [
        {
          "output_type": "error",
          "ename": "IndentationError",
          "evalue": "expected an indented block after 'if' statement on line 11 (<ipython-input-5-5c668b022043>, line 12)",
          "traceback": [
            "\u001b[0;36m  File \u001b[0;32m\"<ipython-input-5-5c668b022043>\"\u001b[0;36m, line \u001b[0;32m12\u001b[0m\n\u001b[0;31m    print(\"Larger\")\u001b[0m\n\u001b[0m    ^\u001b[0m\n\u001b[0;31mIndentationError\u001b[0m\u001b[0;31m:\u001b[0m expected an indented block after 'if' statement on line 11\n"
          ]
        }
      ]
    },
    {
      "cell_type": "code",
      "source": [
        "x = 10\n",
        "if x >= 10:\n",
        "  print(\"Inside\")"
      ],
      "metadata": {
        "colab": {
          "base_uri": "https://localhost:8080/"
        },
        "id": "su8VgCcIyR7v",
        "outputId": "80470a6b-a37b-46e0-992e-3de940befa61"
      },
      "execution_count": null,
      "outputs": [
        {
          "output_type": "stream",
          "name": "stdout",
          "text": [
            "Inside\n"
          ]
        }
      ]
    },
    {
      "cell_type": "code",
      "source": [
        "x = 10\n",
        "if x > 10:\n",
        "  print(\"Greater\")\n",
        "else:\n",
        "  print(\"Smaller\")\n",
        "# if/else is basically how we write yes/no questions in coding"
      ],
      "metadata": {
        "colab": {
          "base_uri": "https://localhost:8080/"
        },
        "id": "Lw180M_tyXXb",
        "outputId": "64462953-2deb-4148-8906-2e5c2aecac0a"
      },
      "execution_count": null,
      "outputs": [
        {
          "output_type": "stream",
          "name": "stdout",
          "text": [
            "Smaller\n"
          ]
        }
      ]
    },
    {
      "cell_type": "code",
      "source": [
        "age = int(input(\"Age:\"))\n",
        "if age >= 25:\n",
        "  print(\"Cheap insurance\")\n",
        "else:\n",
        "  print(\"Expensive\")\n",
        "# test each case (above, below, or equal to 25)"
      ],
      "metadata": {
        "colab": {
          "base_uri": "https://localhost:8080/"
        },
        "id": "Rb_I5vQVzH5C",
        "outputId": "eb886c6f-6450-4b65-b8e3-9f025a0e3e64"
      },
      "execution_count": null,
      "outputs": [
        {
          "output_type": "stream",
          "name": "stdout",
          "text": [
            "Age:25\n",
            "Cheap insurance\n"
          ]
        }
      ]
    },
    {
      "cell_type": "code",
      "source": [
        "age = int(input(\"Age:\"))\n",
        "if age >= 25 or num_of_tickets < 1:\n",
        "  print(\"Cheap insurance\")\n",
        "else:\n",
        "  print(\"Expensive\")\n",
        "\n",
        "age = int(input(\"Age:\"))\n",
        "if age >= 25 and num_of_tickets < 1:\n",
        "  print(\"Cheap insurance\")\n",
        "else:\n",
        "  print(\"Expensive\")\n",
        "# or/and"
      ],
      "metadata": {
        "colab": {
          "base_uri": "https://localhost:8080/",
          "height": 304
        },
        "id": "WEMejaZM1TE-",
        "outputId": "4cfbb720-4648-41da-d382-7734acfb7030"
      },
      "execution_count": null,
      "outputs": [
        {
          "name": "stdout",
          "output_type": "stream",
          "text": [
            "Age:25\n",
            "Cheap insurance\n",
            "Age:26\n"
          ]
        },
        {
          "output_type": "error",
          "ename": "NameError",
          "evalue": "name 'num_of_tickets' is not defined",
          "traceback": [
            "\u001b[0;31m---------------------------------------------------------------------------\u001b[0m",
            "\u001b[0;31mNameError\u001b[0m                                 Traceback (most recent call last)",
            "\u001b[0;32m<ipython-input-14-147d8e0c10ab>\u001b[0m in \u001b[0;36m<cell line: 8>\u001b[0;34m()\u001b[0m\n\u001b[1;32m      6\u001b[0m \u001b[0;34m\u001b[0m\u001b[0m\n\u001b[1;32m      7\u001b[0m \u001b[0mage\u001b[0m \u001b[0;34m=\u001b[0m \u001b[0mint\u001b[0m\u001b[0;34m(\u001b[0m\u001b[0minput\u001b[0m\u001b[0;34m(\u001b[0m\u001b[0;34m\"Age:\"\u001b[0m\u001b[0;34m)\u001b[0m\u001b[0;34m)\u001b[0m\u001b[0;34m\u001b[0m\u001b[0;34m\u001b[0m\u001b[0m\n\u001b[0;32m----> 8\u001b[0;31m \u001b[0;32mif\u001b[0m \u001b[0mage\u001b[0m \u001b[0;34m>=\u001b[0m \u001b[0;36m25\u001b[0m \u001b[0;32mand\u001b[0m \u001b[0mnum_of_tickets\u001b[0m \u001b[0;34m<\u001b[0m \u001b[0;36m1\u001b[0m\u001b[0;34m:\u001b[0m\u001b[0;34m\u001b[0m\u001b[0;34m\u001b[0m\u001b[0m\n\u001b[0m\u001b[1;32m      9\u001b[0m   \u001b[0mprint\u001b[0m\u001b[0;34m(\u001b[0m\u001b[0;34m\"Cheap insurance\"\u001b[0m\u001b[0;34m)\u001b[0m\u001b[0;34m\u001b[0m\u001b[0;34m\u001b[0m\u001b[0m\n\u001b[1;32m     10\u001b[0m \u001b[0;32melse\u001b[0m\u001b[0;34m:\u001b[0m\u001b[0;34m\u001b[0m\u001b[0;34m\u001b[0m\u001b[0m\n",
            "\u001b[0;31mNameError\u001b[0m: name 'num_of_tickets' is not defined"
          ]
        }
      ]
    }
  ]
}